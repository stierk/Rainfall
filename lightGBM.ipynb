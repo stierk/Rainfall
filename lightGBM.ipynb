{
 "cells": [
  {
   "cell_type": "code",
   "execution_count": 3,
   "metadata": {},
   "outputs": [],
   "source": [
    "import pandas as pd\n",
    "import lightgbm as lgb\n",
    "from sklearn.model_selection import train_test_split\n",
    "from sklearn.compose import ColumnTransformer\n",
    "from sklearn.pipeline import Pipeline\n",
    "from sklearn.preprocessing import OneHotEncoder, StandardScaler\n",
    "from sklearn.metrics import mean_squared_error, root_mean_squared_error\n",
    "from datetime import datetime\n",
    "\n",
    "# Load data\n",
    "train = pd.read_csv('data/train.csv')\n",
    "\n",
    "# Define features and target\n",
    "X = train.drop(['rainfall','id'], axis=1)\n",
    "y = train['rainfall']\n",
    "\n"
   ]
  },
  {
   "cell_type": "code",
   "execution_count": 5,
   "metadata": {},
   "outputs": [
    {
     "name": "stdout",
     "output_type": "stream",
     "text": [
      "<class 'pandas.core.frame.DataFrame'>\n",
      "RangeIndex: 2190 entries, 0 to 2189\n",
      "Data columns (total 11 columns):\n",
      " #   Column         Non-Null Count  Dtype  \n",
      "---  ------         --------------  -----  \n",
      " 0   day            2190 non-null   int64  \n",
      " 1   pressure       2190 non-null   float64\n",
      " 2   maxtemp        2190 non-null   float64\n",
      " 3   temparature    2190 non-null   float64\n",
      " 4   mintemp        2190 non-null   float64\n",
      " 5   dewpoint       2190 non-null   float64\n",
      " 6   humidity       2190 non-null   float64\n",
      " 7   cloud          2190 non-null   float64\n",
      " 8   sunshine       2190 non-null   float64\n",
      " 9   winddirection  2190 non-null   float64\n",
      " 10  windspeed      2190 non-null   float64\n",
      "dtypes: float64(10), int64(1)\n",
      "memory usage: 188.3 KB\n"
     ]
    }
   ],
   "source": [
    "X.info()\n",
    "#y.info()"
   ]
  },
  {
   "cell_type": "code",
   "execution_count": null,
   "metadata": {},
   "outputs": [],
   "source": [
    "# Split the data into training and validation sets\n",
    "X_train, X_val, y_train, y_val = train_test_split(X, y, test_size=0.2, random_state=42)\n",
    "\n",
    "# Standardize the target variable\n",
    "scaler_y = StandardScaler()\n",
    "y_train_scaled = scaler_y.fit_transform(y_train.values.reshape(-1, 1))\n",
    "y_val_scaled = scaler_y.transform(y_val.values.reshape(-1, 1))\n",
    "\n",
    "# Define the preprocessing steps\n",
    "#in this case no categorical columns -> next time removing one hot encoded column to avoid multicollinearity\n",
    "categorical_cols= X.select_dtypes(include='object').columns.tolist()\n",
    "numerical_cols= X.select_dtypes(include=['float64','int64']).columns.tolist()\n",
    "\n",
    "preprocessor = ColumnTransformer(\n",
    "    transformers=[\n",
    "        ('numerical_pipeline', Pipeline(steps=[\n",
    "            ('scaler',StandardScaler())\n",
    "        ]), numerical_cols),\n",
    "        ('categorigal_pipeline', Pipeline(steps=[\n",
    "            ('encoder', OneHotEncoder())\n",
    "        ]), categorical_cols)\n",
    "    ],\n",
    "    remainder='passthrough'\n",
    ")\n",
    "\n",
    "# Create the pipeline\n",
    "pipeline = Pipeline(steps=[\n",
    "    ('preprocessor', preprocessor),\n",
    "    ('model', lgb.LGBMRegressor())\n",
    "])\n",
    "\n",
    "# Train the model\n",
    "pipeline.fit(X_train, y_train_scaled.ravel(), model__eval_metric='rmse')\n",
    "\n",
    "# Predict on validation set\n",
    "y_pred_scaled = pipeline.predict(X_val)\n",
    "\n",
    "# Inverse transform the predictions to get them back to the original scale\n",
    "y_pred = scaler_y.inverse_transform(y_pred_scaled.reshape(-1, 1))\n",
    "\n",
    "# Calculate RMSE\n",
    "rmse = root_mean_squared_error(y_val, y_pred)\n",
    "print(f'RMSE: {rmse}')"
   ]
  },
  {
   "cell_type": "code",
   "execution_count": 9,
   "metadata": {},
   "outputs": [
    {
     "name": "stdout",
     "output_type": "stream",
     "text": [
      "Predictions saved to submissions/lightGBM_20250302_095538.csv\n"
     ]
    },
    {
     "name": "stderr",
     "output_type": "stream",
     "text": [
      "c:\\Users\\robin\\AppData\\Local\\Programs\\Python\\Python312\\Lib\\site-packages\\sklearn\\utils\\validation.py:2739: UserWarning: X does not have valid feature names, but LGBMRegressor was fitted with feature names\n",
      "  warnings.warn(\n"
     ]
    }
   ],
   "source": [
    "\n",
    "# Load test data\n",
    "test = pd.read_csv('data/test.csv')\n",
    "\n",
    "# Predict num_sold\n",
    "predictions_scaled = pipeline.predict(test.drop('id', axis=1))\n",
    "\n",
    "predictions = scaler_y.inverse_transform(predictions_scaled.reshape(-1, 1)).flatten()\n",
    "\n",
    "# Create a DataFrame with the predictions\n",
    "results = pd.DataFrame({'id': test['id'], 'rainfall': predictions})\n",
    "\n",
    "# Generate filename with datetime\n",
    "filename = f'submissions/lightGBM_{datetime.now().strftime(\"%Y%m%d_%H%M%S\")}.csv'\n",
    "\n",
    "# Save the results to a CSV file\n",
    "results.to_csv(filename, index=False)\n",
    "\n",
    "# Display a message indicating the predictions have been saved\n",
    "print(f'Predictions saved to {filename}')\n"
   ]
  }
 ],
 "metadata": {
  "kernelspec": {
   "display_name": "Python 3",
   "language": "python",
   "name": "python3"
  },
  "language_info": {
   "codemirror_mode": {
    "name": "ipython",
    "version": 3
   },
   "file_extension": ".py",
   "mimetype": "text/x-python",
   "name": "python",
   "nbconvert_exporter": "python",
   "pygments_lexer": "ipython3",
   "version": "3.12.8"
  }
 },
 "nbformat": 4,
 "nbformat_minor": 2
}
